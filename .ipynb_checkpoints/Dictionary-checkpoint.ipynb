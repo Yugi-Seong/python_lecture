{
 "cells": [
  {
   "cell_type": "markdown",
   "id": "1f708028",
   "metadata": {},
   "source": [
    "# 딕셔너리"
   ]
  },
  {
   "cell_type": "markdown",
   "id": "f4ed4b39",
   "metadata": {},
   "source": [
    "{키 : value }의 쌍   \n",
    "{Key1:Value1, Key2:Value2, Key3:Value3, ...}"
   ]
  },
  {
   "cell_type": "code",
   "execution_count": null,
   "id": "605d2698",
   "metadata": {},
   "outputs": [],
   "source": []
  },
  {
   "cell_type": "code",
   "execution_count": 2,
   "id": "dffa04a2",
   "metadata": {},
   "outputs": [
    {
     "data": {
      "text/plain": [
       "dict"
      ]
     },
     "execution_count": 2,
     "metadata": {},
     "output_type": "execute_result"
    }
   ],
   "source": [
    "dic = dict()\n",
    "type(dic)\n",
    "\n",
    "# dic = {}\n",
    "# type(dic)"
   ]
  },
  {
   "cell_type": "code",
   "execution_count": 4,
   "id": "1d9233d2",
   "metadata": {},
   "outputs": [
    {
     "data": {
      "text/plain": [
       "list"
      ]
     },
     "execution_count": 4,
     "metadata": {},
     "output_type": "execute_result"
    }
   ],
   "source": [
    "lis = list()\n",
    "type(lis)"
   ]
  },
  {
   "cell_type": "code",
   "execution_count": 5,
   "id": "d9e0e4e2",
   "metadata": {},
   "outputs": [
    {
     "data": {
      "text/plain": [
       "2"
      ]
     },
     "execution_count": 5,
     "metadata": {},
     "output_type": "execute_result"
    }
   ],
   "source": [
    "dic = {\"a\":\"b\",\"c\":\"d\"}\n",
    "len(dic)"
   ]
  },
  {
   "cell_type": "code",
   "execution_count": 6,
   "id": "bdf542a8",
   "metadata": {},
   "outputs": [
    {
     "data": {
      "text/plain": [
       "3"
      ]
     },
     "execution_count": 6,
     "metadata": {},
     "output_type": "execute_result"
    }
   ],
   "source": [
    "dic = {'name':'pey', 'phone':'0119993323', 'birth': '1118'}\n",
    "len(dic)"
   ]
  },
  {
   "cell_type": "code",
   "execution_count": 7,
   "id": "a4d66b4d",
   "metadata": {},
   "outputs": [
    {
     "data": {
      "text/plain": [
       "{1: 'hi'}"
      ]
     },
     "execution_count": 7,
     "metadata": {},
     "output_type": "execute_result"
    }
   ],
   "source": [
    "#키값으로 정수가 와도 괜찮음\n",
    "a = {1: 'hi'}\n",
    "a\n",
    "\n",
    "#value값으로 리스트 넣기 가능\n",
    "a = { 'a': [1,2,3]}\n"
   ]
  },
  {
   "cell_type": "code",
   "execution_count": 8,
   "id": "62211d7a",
   "metadata": {},
   "outputs": [
    {
     "data": {
      "text/plain": [
       "{1: 'a', 2: 'b'}"
      ]
     },
     "execution_count": 8,
     "metadata": {},
     "output_type": "execute_result"
    }
   ],
   "source": [
    "a = {1 : 'a'}\n",
    "\n",
    "#a[key] 키값을 적어준 후 value 값을 나오게 하면 추가가 됨 \n",
    "a[2] = 'b'\n",
    "a"
   ]
  },
  {
   "cell_type": "code",
   "execution_count": 10,
   "id": "4957ca85",
   "metadata": {},
   "outputs": [
    {
     "data": {
      "text/plain": [
       "1"
      ]
     },
     "execution_count": 10,
     "metadata": {},
     "output_type": "execute_result"
    }
   ],
   "source": [
    "a[\"c\"] = 1\n",
    "a[\"c\"]"
   ]
  },
  {
   "cell_type": "code",
   "execution_count": 12,
   "id": "fc435e11",
   "metadata": {},
   "outputs": [
    {
     "data": {
      "text/plain": [
       "{1: 'a', 2: 'b', 'c': 1, 3: [1, 2, 3]}"
      ]
     },
     "execution_count": 12,
     "metadata": {},
     "output_type": "execute_result"
    }
   ],
   "source": [
    "a[3] = [1,2,3]\n",
    "a"
   ]
  },
  {
   "cell_type": "markdown",
   "id": "ebc319f6",
   "metadata": {},
   "source": [
    "### 딕셔너리 요소 삭제 "
   ]
  },
  {
   "cell_type": "code",
   "execution_count": 13,
   "id": "802b39ed",
   "metadata": {},
   "outputs": [
    {
     "data": {
      "text/plain": [
       "{2: 'b', 'c': 1, 3: [1, 2, 3]}"
      ]
     },
     "execution_count": 13,
     "metadata": {},
     "output_type": "execute_result"
    }
   ],
   "source": [
    "#삭제할 키값을 호출함 => 인덱싱이 아니라 키 값임!!\n",
    "\n",
    "a ={1: 'a', 2: 'b', 'c': 1, 3: [1, 2, 3]}\n",
    "del a[1]\n",
    "a"
   ]
  },
  {
   "cell_type": "code",
   "execution_count": 14,
   "id": "b3b3b76d",
   "metadata": {},
   "outputs": [
    {
     "data": {
      "text/plain": [
       "{1: 'a', 2: 'b', 'c': 1}"
      ]
     },
     "execution_count": 14,
     "metadata": {},
     "output_type": "execute_result"
    }
   ],
   "source": [
    "a ={1: 'a', 2: 'b', 'c': 1, 3: [1, 2, 3]}\n",
    "del a[3]\n",
    "a"
   ]
  },
  {
   "cell_type": "code",
   "execution_count": 16,
   "id": "a411b886",
   "metadata": {},
   "outputs": [
    {
     "name": "stdout",
     "output_type": "stream",
     "text": [
      "축구\n"
     ]
    },
    {
     "data": {
      "text/plain": [
       "'파이썬'"
      ]
     },
     "execution_count": 16,
     "metadata": {},
     "output_type": "execute_result"
    }
   ],
   "source": [
    "# ex. value 값 호출하기\n",
    "\n",
    "data_dic = {\"김연아\":\"피겨스케이팅\", \"류현진\":\"야구\", \"손흥민\":\"축구\", \"귀도\":\"파이썬\"}\n",
    "print(data_dic['손흥민'])\n",
    "data_dic['귀도']"
   ]
  },
  {
   "cell_type": "markdown",
   "id": "e49a1fe4",
   "metadata": {},
   "source": [
    "같은 키값이 존재할 경우 => 뒤에 있는 value 의 값만 살림   \n",
    "리스트를 키로 사용 못함 "
   ]
  },
  {
   "cell_type": "markdown",
   "id": "e06f516c",
   "metadata": {},
   "source": [
    "### 딕셔너리 관련 함수들 "
   ]
  },
  {
   "cell_type": "code",
   "execution_count": 17,
   "id": "7f8c61e5",
   "metadata": {},
   "outputs": [
    {
     "data": {
      "text/plain": [
       "dict_keys(['name', 'phone', 'birth'])"
      ]
     },
     "execution_count": 17,
     "metadata": {},
     "output_type": "execute_result"
    }
   ],
   "source": [
    "#key 리스트 만들기 \n",
    "\n",
    "a = {'name': 'pey', 'phone': '0119993323', 'birth': '1118'}\n",
    "a.keys()"
   ]
  },
  {
   "cell_type": "code",
   "execution_count": 18,
   "id": "e3a78c48",
   "metadata": {},
   "outputs": [
    {
     "name": "stdout",
     "output_type": "stream",
     "text": [
      "dict_keys(['name', 'phone', 'birth'])\n"
     ]
    }
   ],
   "source": [
    "print(a.keys())"
   ]
  },
  {
   "cell_type": "code",
   "execution_count": 26,
   "id": "f3248201",
   "metadata": {},
   "outputs": [
    {
     "name": "stdout",
     "output_type": "stream",
     "text": [
      "['김연아', '류현진', '손흥민', '귀도']\n",
      "김연아\n"
     ]
    }
   ],
   "source": [
    "data_dic = {\"김연아\":\"피겨스케이팅\", \"류현진\":\"야구\", \"손흥민\":\"축구\", \"귀도\":\"파이썬\"}\n",
    "a = data_dic.keys()\n",
    "print(list(a))\n",
    "\n",
    "print(list(a)[0])"
   ]
  },
  {
   "cell_type": "code",
   "execution_count": 29,
   "id": "83e83c45",
   "metadata": {},
   "outputs": [
    {
     "name": "stdout",
     "output_type": "stream",
     "text": [
      "['피겨스케이팅', '야구', '축구', '파이썬']\n",
      "야구\n"
     ]
    }
   ],
   "source": [
    "b = data_dic.values()\n",
    "print(list(b))\n",
    "\n",
    "print(list(b)[1])"
   ]
  },
  {
   "cell_type": "code",
   "execution_count": 33,
   "id": "8c21a4c2",
   "metadata": {},
   "outputs": [
    {
     "name": "stdout",
     "output_type": "stream",
     "text": [
      "[('김연아', '피겨스케이팅'), ('류현진', '야구'), ('손흥민', '축구'), ('귀도', '파이썬')]\n",
      "('김연아', '피겨스케이팅')\n"
     ]
    },
    {
     "data": {
      "text/plain": [
       "tuple"
      ]
     },
     "execution_count": 33,
     "metadata": {},
     "output_type": "execute_result"
    }
   ],
   "source": [
    "c = data_dic.items()\n",
    "print(list(c))\n",
    "\n",
    "print(list(c)[0])\n",
    "\n",
    "type(list(c)[0])"
   ]
  },
  {
   "cell_type": "code",
   "execution_count": 35,
   "id": "997275e0",
   "metadata": {},
   "outputs": [
    {
     "data": {
      "text/plain": [
       "{'김연아': '피겨스케이팅', '류현진': '야구', '손흥민': '축구', '귀도': '파이썬'}"
      ]
     },
     "execution_count": 35,
     "metadata": {},
     "output_type": "execute_result"
    }
   ],
   "source": [
    "dict ([('김연아', '피겨스케이팅'), ('류현진', '야구'), ('손흥민', '축구'), ('귀도', '파이썬')])"
   ]
  },
  {
   "cell_type": "markdown",
   "id": "3a3c48cf",
   "metadata": {},
   "source": [
    "### Key: Value 쌍 모두 지우기(clear)"
   ]
  },
  {
   "cell_type": "code",
   "execution_count": 37,
   "id": "fa4507ee",
   "metadata": {},
   "outputs": [
    {
     "data": {
      "text/plain": [
       "{}"
      ]
     },
     "execution_count": 37,
     "metadata": {},
     "output_type": "execute_result"
    }
   ],
   "source": [
    "data_dic = {\"김연아\":\"피겨스케이팅\", \"류현진\":\"야구\", \"손흥민\":\"축구\", \"귀도\":\"파이썬\"}\n",
    "data_dic.clear()\n",
    "data_dic"
   ]
  },
  {
   "cell_type": "markdown",
   "id": "dcf42b52",
   "metadata": {},
   "source": [
    "### Key로 Value얻기(get)"
   ]
  },
  {
   "cell_type": "code",
   "execution_count": 38,
   "id": "66c8774e",
   "metadata": {},
   "outputs": [
    {
     "data": {
      "text/plain": [
       "'파이썬'"
      ]
     },
     "execution_count": 38,
     "metadata": {},
     "output_type": "execute_result"
    }
   ],
   "source": [
    "data_dic = {\"김연아\":\"피겨스케이팅\", \"류현진\":\"야구\", \"손흥민\":\"축구\", \"귀도\":\"파이썬\"}\n",
    "data_dic.get(\"귀도\")"
   ]
  },
  {
   "cell_type": "code",
   "execution_count": 42,
   "id": "9ee57008",
   "metadata": {},
   "outputs": [
    {
     "name": "stdout",
     "output_type": "stream",
     "text": [
      "None\n"
     ]
    }
   ],
   "source": [
    "c = data_dic.get(\"귀도반로섬\")\n",
    "print(c)"
   ]
  },
  {
   "cell_type": "code",
   "execution_count": 55,
   "id": "9734ea77",
   "metadata": {},
   "outputs": [
    {
     "data": {
      "text/plain": [
       "{'김연아': '피겨스케이팅', '류현진': '야구', '손흥민': '축구', '귀도': '파이썬'}"
      ]
     },
     "execution_count": 55,
     "metadata": {},
     "output_type": "execute_result"
    }
   ],
   "source": [
    "data_dic = {\"김연아\":\"피겨스케이팅\", \"류현진\":\"야구\", \"손흥민\":\"축구\", \"귀도\":\"파이썬\"}\n",
    "key_name = [\"김연아\",\"류현진\",\"손흥민\",\"귀도\"]\n",
    "\n",
    "for name in key_name :\n",
    "    values = data_dic.get(name)\n",
    "    if values == None :\n",
    "        data_dic[name] = \"게임왕\"\n",
    "data_dic"
   ]
  },
  {
   "cell_type": "markdown",
   "id": "e0f32ed9",
   "metadata": {},
   "source": [
    "### 해당 Key가 딕셔너리 안에 있는지 조사하기(in)"
   ]
  },
  {
   "cell_type": "code",
   "execution_count": 53,
   "id": "9bf3ec55",
   "metadata": {},
   "outputs": [
    {
     "data": {
      "text/plain": [
       "True"
      ]
     },
     "execution_count": 53,
     "metadata": {},
     "output_type": "execute_result"
    }
   ],
   "source": [
    "data_dic = {\"김연아\":\"피겨스케이팅\", \"류현진\":\"야구\", \"손흥민\":\"축구\", \"귀도\":\"파이썬\"}\n",
    "\"류현진\" in data_dic"
   ]
  },
  {
   "cell_type": "code",
   "execution_count": 52,
   "id": "3b09fc02",
   "metadata": {},
   "outputs": [
    {
     "data": {
      "text/plain": [
       "{'김연아': '피겨스케이팅', '류현진': '야구', '손흥민': '축구', '귀도': '게임왕'}"
      ]
     },
     "execution_count": 52,
     "metadata": {},
     "output_type": "execute_result"
    }
   ],
   "source": [
    "data_dic = {\"김연아\":\"피겨스케이팅\", \"류현진\":\"야구\", \"손흥민\":\"축구\", \"귀도\":\"파이썬\"}\n",
    "key_name = [\"김연아\",\"류현진\",\"손흥민\",\"귀도\"]\n",
    "\n",
    "if \"귀도반로섬\" not in data_dic :\n",
    "    data_dic[name] =\"게임왕\"\n",
    "    \n",
    "data_dic"
   ]
  },
  {
   "cell_type": "code",
   "execution_count": null,
   "id": "7ee2a746",
   "metadata": {},
   "outputs": [],
   "source": []
  },
  {
   "cell_type": "code",
   "execution_count": 58,
   "id": "18900028",
   "metadata": {},
   "outputs": [
    {
     "data": {
      "text/plain": [
       "['성', '유', '기']"
      ]
     },
     "execution_count": 58,
     "metadata": {},
     "output_type": "execute_result"
    }
   ],
   "source": [
    "\"성,유,기\".split(\",\")"
   ]
  },
  {
   "cell_type": "code",
   "execution_count": 60,
   "id": "5330f7cf",
   "metadata": {},
   "outputs": [
    {
     "data": {
      "text/plain": [
       "list"
      ]
     },
     "execution_count": 60,
     "metadata": {},
     "output_type": "execute_result"
    }
   ],
   "source": [
    "a = list()\n",
    "type(a)\n",
    "# a는 리스트 형태의 객체 \n",
    "# => a. 하여 매소드 들을 사용할 수 있음 "
   ]
  },
  {
   "cell_type": "code",
   "execution_count": 63,
   "id": "16c4c2be",
   "metadata": {},
   "outputs": [
    {
     "data": {
      "text/plain": [
       "'Seongyugi'"
      ]
     },
     "execution_count": 63,
     "metadata": {},
     "output_type": "execute_result"
    }
   ],
   "source": [
    "name = \"SeongYuGi\" # \"성유기 라는 문자열을 name 이라는 인스턴스 형성\"\n",
    "# 새로운 객체(인스턴스)를 생성시킬경우 매소드와 속성들이 따라오게 된다!!!\n",
    "name.capitalize() "
   ]
  },
  {
   "cell_type": "code",
   "execution_count": null,
   "id": "0e101a9c",
   "metadata": {},
   "outputs": [],
   "source": []
  }
 ],
 "metadata": {
  "kernelspec": {
   "display_name": "Python 3",
   "language": "python",
   "name": "python3"
  },
  "language_info": {
   "codemirror_mode": {
    "name": "ipython",
    "version": 3
   },
   "file_extension": ".py",
   "mimetype": "text/x-python",
   "name": "python",
   "nbconvert_exporter": "python",
   "pygments_lexer": "ipython3",
   "version": "3.8.9"
  }
 },
 "nbformat": 4,
 "nbformat_minor": 5
}
