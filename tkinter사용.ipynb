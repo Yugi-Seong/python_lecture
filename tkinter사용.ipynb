{
 "cells": [
  {
   "cell_type": "code",
   "execution_count": 10,
   "id": "39aeddd4",
   "metadata": {},
   "outputs": [
    {
     "data": {
      "text/html": [
       "<style>.container { width:100% !important; }</style>"
      ],
      "text/plain": [
       "<IPython.core.display.HTML object>"
      ]
     },
     "metadata": {},
     "output_type": "display_data"
    }
   ],
   "source": [
    "from IPython.core.display import display, HTML\n",
    "display(HTML(\"<style>.container { width:100% !important; }</style>\"))"
   ]
  },
  {
   "cell_type": "code",
   "execution_count": 27,
   "id": "72934ca5",
   "metadata": {},
   "outputs": [],
   "source": [
    "#GUI 모듈 포함 \n",
    "import tkinter as tk\n",
    "\n",
    "# 가장 상위 레벨의 윈도우 창 생성\n",
    "window = tk.Tk()\n",
    "\n",
    "window.title(\"Seong Yugi\")\n",
    "window.geometry(\"640x400+100+100\")\n",
    "window.resizable()\n",
    "\n",
    "#라벨 속성 지정 \n",
    "label=tk.Label(window, text=\"안녕하세요.\",width=10,height=5,fg=\"red\",relief=\"solid\")\n",
    "label.pack()\n",
    "\n",
    "#윈도우이름의 윈도우 창을 윈도우가 종료될때까지 실행시킴 \n",
    "window.mainloop()"
   ]
  },
  {
   "cell_type": "markdown",
   "id": "db3eefeb",
   "metadata": {},
   "source": [
    "라벨 형식 지정   \n",
    "https://076923.github.io/posts/Python-tkinter-2/"
   ]
  },
  {
   "cell_type": "markdown",
   "id": "599b0260",
   "metadata": {},
   "source": [
    "## Button(버튼)\n",
    "Button을 이용하여 메소드 또는 함수 등을 실행시키기 위한 단추를 생성할 수 있습니다."
   ]
  },
  {
   "cell_type": "code",
   "execution_count": 23,
   "id": "d3d7f59a",
   "metadata": {},
   "outputs": [],
   "source": [
    "#GUI 모듈 포함 \n",
    "import tkinter as tk\n",
    "\n",
    "# 가장 상위 레벨의 윈도우 창 생성\n",
    "window = tk.Tk()\n",
    "\n",
    "window.title(\"Seong Yugi\")\n",
    "window.geometry(\"640x400+100+100\")\n",
    "window.resizable()\n",
    "\n",
    "\n",
    "# count 함수 생성 \n",
    "count=0\n",
    "\n",
    "def countUP():\n",
    "    global count\n",
    "    count +=1\n",
    "    label.config(text=str(count))\n",
    "\n",
    "label = tkinter.Label(window, text=\"0\")\n",
    "label.pack()\n",
    "\n",
    "\n",
    "#button을 눌렀을때 함수 실행 : command=countUP \n",
    "button = tkinter.Button(window, width=15, command=countUP)\n",
    "button.pack()\n",
    "\n",
    "\n",
    "#윈도우이름의 윈도우 창을 윈도우가 종료될때까지 실행시킴 \n",
    "window.mainloop()"
   ]
  },
  {
   "cell_type": "markdown",
   "id": "3d342683",
   "metadata": {},
   "source": [
    "## Entry(기입창)\n",
    "Entry을 이용하여 텍스트를 입력받거나 출력하기 위한 기입창을 생성할 수 있습니다"
   ]
  },
  {
   "cell_type": "code",
   "execution_count": 24,
   "id": "a42b264b",
   "metadata": {},
   "outputs": [
    {
     "name": "stderr",
     "output_type": "stream",
     "text": [
      "Exception in Tkinter callback\n",
      "Traceback (most recent call last):\n",
      "  File \"c:\\users\\ad\\appdata\\local\\programs\\python\\python38\\lib\\tkinter\\__init__.py\", line 1892, in __call__\n",
      "    return self.func(*args)\n",
      "TypeError: calc() takes 0 positional arguments but 1 was given\n",
      "Exception in Tkinter callback\n",
      "Traceback (most recent call last):\n",
      "  File \"c:\\users\\ad\\appdata\\local\\programs\\python\\python38\\lib\\tkinter\\__init__.py\", line 1892, in __call__\n",
      "    return self.func(*args)\n",
      "TypeError: calc() takes 0 positional arguments but 1 was given\n",
      "Exception in Tkinter callback\n",
      "Traceback (most recent call last):\n",
      "  File \"c:\\users\\ad\\appdata\\local\\programs\\python\\python38\\lib\\tkinter\\__init__.py\", line 1892, in __call__\n",
      "    return self.func(*args)\n",
      "TypeError: calc() takes 0 positional arguments but 1 was given\n"
     ]
    }
   ],
   "source": [
    "import tkinter as tk\n",
    "from math import *\n",
    "\n",
    "window = tk.Tk()\n",
    "\n",
    "window.title(\"Seong Yugi\")\n",
    "window.geometry(\"640x400+100+100\")\n",
    "window.resizable()\n",
    "\n",
    "#calc 함수 생성 \n",
    "def calc():\n",
    "    label.config(text=\"결과\"+ str(eval(entry.get())))\n",
    "\n",
    "    \n",
    "entry = tk.Entry(window)\n",
    "entry.bind(\"<Return>\", calc)\n",
    "entry.pack()\n",
    "\n",
    "label=tk.Label(window)\n",
    "label.pack()\n",
    "\n",
    "window.mainloop()"
   ]
  },
  {
   "cell_type": "markdown",
   "id": "4edee0ad",
   "metadata": {},
   "source": [
    "## Listbox\n",
    "Listbox을 이용하여 목록을 불러와 추가, 제거 또는 선택하기 위한 리스트박스를 생성할 수 있습니다"
   ]
  },
  {
   "cell_type": "code",
   "execution_count": 28,
   "id": "735144df",
   "metadata": {},
   "outputs": [],
   "source": [
    "import tkinter as tk \n",
    "\n",
    "window=tk.Tk()\n",
    "window.title(\"Seong Yugi\")\n",
    "window.geometry(\"640x480+100+100\")\n",
    "window.resizable(False, False)\n",
    "\n",
    "listbox = tk.Listbox(window, selectmode='extended', height=0)\n",
    "listbox.insert(0, \"1번\")\n",
    "listbox.insert(1, \"2번\")\n",
    "listbox.insert(2, \"2번\")\n",
    "listbox.insert(3, \"2번\")\n",
    "listbox.insert(4, \"3번\")\n",
    "listbox.delete(1, 2)\n",
    "listbox.pack()\n",
    "\n",
    "window.mainloop()"
   ]
  },
  {
   "cell_type": "markdown",
   "id": "8356ba42",
   "metadata": {},
   "source": [
    "## CheckButton\n",
    "Checkbutton을 이용하여 옵션 등을 다중 선택하기 위한 체크버튼을 생성할 수 있습니다"
   ]
  },
  {
   "cell_type": "code",
   "execution_count": 30,
   "id": "486c5ee9",
   "metadata": {},
   "outputs": [],
   "source": [
    "import tkinter as tk \n",
    "\n",
    "window=tk.Tk()\n",
    "window.title(\"Seong Yugi\")\n",
    "window.geometry(\"640x480+100+100\")\n",
    "window.resizable(False, False)\n",
    "\n",
    "def flash():\n",
    "    checkbutton1.flash()\n",
    "\n",
    "CheckVariety_1=tk.IntVar()\n",
    "CheckVariety_2=tk.IntVar()\n",
    "\n",
    "checkbutton1=tk.Checkbutton(window, text=\"O\", variable=CheckVariety_1, activebackground=\"blue\")\n",
    "checkbutton2=tk.Checkbutton(window, text=\"△\", variable=CheckVariety_2)\n",
    "checkbutton3=tk.Checkbutton(window, text=\"X\", variable=CheckVariety_2, command=flash)\n",
    "\n",
    "checkbutton1.pack()\n",
    "checkbutton2.pack()\n",
    "checkbutton3.pack()\n",
    "\n",
    "window.mainloop()"
   ]
  },
  {
   "cell_type": "markdown",
   "id": "58f8954c",
   "metadata": {},
   "source": [
    "https://076923.github.io/posts/Python-tkinter-6/"
   ]
  },
  {
   "cell_type": "markdown",
   "id": "1c1a1a1a",
   "metadata": {},
   "source": [
    "## Menu사용\n",
    "메뉴 이름=tkinter.Menu(윈도우 창)을 사용하여 해당 윈도우 창에 메뉴를 사용할 수 있습니다.\n",
    "\n",
    "상위 메뉴 이름=tkinter.Menu(메뉴 이름, 파라미터1, 파라미터2, 파라미터3, ...)을 사용하여 해당 메뉴창에 표시할 상위 메뉴의 속성을 설정할 수 있습니다."
   ]
  },
  {
   "cell_type": "code",
   "execution_count": 32,
   "id": "03c939d1",
   "metadata": {},
   "outputs": [
    {
     "name": "stdout",
     "output_type": "stream",
     "text": [
      "Window Close\n"
     ]
    }
   ],
   "source": [
    "import tkinter as tk\n",
    "\n",
    "window=tkinter.Tk()\n",
    "window.title(\"YUN DAE HEE\")\n",
    "window.geometry(\"640x480+100+100\")\n",
    "window.resizable(False, False)\n",
    "\n",
    "def close():\n",
    "    window.quit()\n",
    "    window.destroy()\n",
    "\n",
    "menubar=tk.Menu(window)\n",
    "\n",
    "menu_1=tk.Menu(menubar, tearoff=0)\n",
    "menu_1.add_command(label=\"하위 메뉴 1-1\")\n",
    "menu_1.add_command(label=\"하위 메뉴 1-2\")\n",
    "menu_1.add_separator()\n",
    "menu_1.add_command(label=\"하위 메뉴 1-3\", command=close)\n",
    "menubar.add_cascade(label=\"상위 메뉴 1\", menu=menu_1)\n",
    "\n",
    "menu_2=tk.Menu(menubar, tearoff=0, selectcolor=\"red\")\n",
    "menu_2.add_radiobutton(label=\"하위 메뉴 2-1\", state=\"disable\")\n",
    "menu_2.add_radiobutton(label=\"하위 메뉴 2-2\")\n",
    "menu_2.add_radiobutton(label=\"하위 메뉴 2-3\")\n",
    "menubar.add_cascade(label=\"상위 메뉴 2\", menu=menu_2)\n",
    "\n",
    "menu_3=tk.Menu(menubar, tearoff=0)\n",
    "menu_3.add_checkbutton(label=\"하위 메뉴 3-1\")\n",
    "menu_3.add_checkbutton(label=\"하위 메뉴 3-2\")\n",
    "menubar.add_cascade(label=\"상위 메뉴 3\", menu=menu_3)\n",
    "\n",
    "window.config(menu=menubar)\n",
    "\n",
    "window.mainloop()\n",
    "\n",
    "print(\"Window Close\")"
   ]
  },
  {
   "cell_type": "code",
   "execution_count": null,
   "id": "cbacd286",
   "metadata": {},
   "outputs": [],
   "source": []
  }
 ],
 "metadata": {
  "kernelspec": {
   "display_name": "Python 3",
   "language": "python",
   "name": "python3"
  },
  "language_info": {
   "codemirror_mode": {
    "name": "ipython",
    "version": 3
   },
   "file_extension": ".py",
   "mimetype": "text/x-python",
   "name": "python",
   "nbconvert_exporter": "python",
   "pygments_lexer": "ipython3",
   "version": "3.8.9"
  }
 },
 "nbformat": 4,
 "nbformat_minor": 5
}
