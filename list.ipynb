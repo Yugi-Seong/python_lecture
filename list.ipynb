{
 "cells": [
  {
   "cell_type": "code",
   "execution_count": 10,
   "id": "1fed1d49",
   "metadata": {},
   "outputs": [
    {
     "data": {
      "text/html": [
       "<style>.container { width:100% !important; }</style>"
      ],
      "text/plain": [
       "<IPython.core.display.HTML object>"
      ]
     },
     "metadata": {},
     "output_type": "display_data"
    }
   ],
   "source": [
    "from IPython.core.display import display, HTML\n",
    "display(HTML(\"<style>.container { width:100% !important; }</style>\"))"
   ]
  },
  {
   "cell_type": "markdown",
   "id": "fa15140c",
   "metadata": {},
   "source": [
    "### 리스트의 인덱싱과 슬라이싱"
   ]
  },
  {
   "cell_type": "code",
   "execution_count": 9,
   "id": "b5c82b4d",
   "metadata": {},
   "outputs": [
    {
     "data": {
      "text/plain": [
       "1"
      ]
     },
     "execution_count": 9,
     "metadata": {},
     "output_type": "execute_result"
    }
   ],
   "source": [
    "a = [1, 2, 3] \n",
    "a[0] + a[2]\n",
    "a[0]"
   ]
  },
  {
   "cell_type": "markdown",
   "id": "b03d0156",
   "metadata": {},
   "source": [
    "### 리스트 안에 리스트도 올 수 있다."
   ]
  },
  {
   "cell_type": "code",
   "execution_count": 12,
   "id": "73512dca",
   "metadata": {},
   "outputs": [
    {
     "data": {
      "text/plain": [
       "'c'"
      ]
     },
     "execution_count": 12,
     "metadata": {},
     "output_type": "execute_result"
    }
   ],
   "source": [
    "a = [1, 2, 3, ['a', 'b', 'c']]\n",
    "a[3][2]\n",
    "a[3][0]"
   ]
  },
  {
   "cell_type": "markdown",
   "id": "f3c52e01",
   "metadata": {},
   "source": [
    "### 삼중 리스트에서 인덱싱하기"
   ]
  },
  {
   "cell_type": "code",
   "execution_count": 14,
   "id": "87c8714d",
   "metadata": {},
   "outputs": [
    {
     "data": {
      "text/plain": [
       "'Life'"
      ]
     },
     "execution_count": 14,
     "metadata": {},
     "output_type": "execute_result"
    }
   ],
   "source": [
    "a = [1, 2, ['a', 'b', ['Life', 'is']]]\n",
    "\n",
    "#life를 찾기\n",
    "a[2][2][0]"
   ]
  },
  {
   "cell_type": "markdown",
   "id": "b3617609",
   "metadata": {},
   "source": [
    "### 음수 인덱싱 "
   ]
  },
  {
   "cell_type": "code",
   "execution_count": 20,
   "id": "3eece706",
   "metadata": {},
   "outputs": [
    {
     "name": "stdout",
     "output_type": "stream",
     "text": [
      "['a', 'b', 'c']\n",
      "a\n",
      "a\n"
     ]
    }
   ],
   "source": [
    "#'a' 를 음수 인덱싱을 사용하여 찾는다. \n",
    "a = [1, 2, 3, ['a', 'b', 'c']]\n",
    "\n",
    "print(a[-1])\n",
    "print(a[-1][0])\n",
    "print(a[-1][-3])"
   ]
  },
  {
   "cell_type": "markdown",
   "id": "d428c8a1",
   "metadata": {},
   "source": [
    "### 리스트의 슬라이싱"
   ]
  },
  {
   "cell_type": "code",
   "execution_count": 21,
   "id": "34ead6d0",
   "metadata": {},
   "outputs": [
    {
     "data": {
      "text/plain": [
       "[1, 2]"
      ]
     },
     "execution_count": 21,
     "metadata": {},
     "output_type": "execute_result"
    }
   ],
   "source": [
    "a = [1, 2, 3, 4, 5]\n",
    "a[0:2]"
   ]
  },
  {
   "cell_type": "code",
   "execution_count": 26,
   "id": "56f7a5d0",
   "metadata": {
    "scrolled": true
   },
   "outputs": [
    {
     "data": {
      "text/plain": [
       "'123'"
      ]
     },
     "execution_count": 26,
     "metadata": {},
     "output_type": "execute_result"
    }
   ],
   "source": [
    "a = \"12345\"\n",
    "a[0:3]"
   ]
  },
  {
   "cell_type": "code",
   "execution_count": 29,
   "id": "5420d419",
   "metadata": {},
   "outputs": [
    {
     "name": "stdout",
     "output_type": "stream",
     "text": [
      "12 345\n"
     ]
    }
   ],
   "source": [
    "b = a[:2]\n",
    "c = a[2:]\n",
    "print(b,c)"
   ]
  },
  {
   "cell_type": "markdown",
   "id": "f4b8d417",
   "metadata": {},
   "source": [
    "### 음수 슬라이싱 "
   ]
  },
  {
   "cell_type": "code",
   "execution_count": 38,
   "id": "a4bccb54",
   "metadata": {},
   "outputs": [
    {
     "name": "stdout",
     "output_type": "stream",
     "text": [
      "[3, 4]\n",
      "[]\n",
      "[2, 3, 4, 5]\n",
      "[1, 2, 3]\n",
      "[2, 3, 4]\n"
     ]
    }
   ],
   "source": [
    "a = [1, 2, 3, 4, 5]\n",
    "print(a[-3:-1])\n",
    "print(a[-1:-3])\n",
    "print(a[-4:])\n",
    "print(a[:-2])\n",
    "print(a[-4:-1])"
   ]
  },
  {
   "cell_type": "markdown",
   "id": "4c99a4e9",
   "metadata": {},
   "source": [
    "### 리스트 연산하기 "
   ]
  },
  {
   "cell_type": "code",
   "execution_count": 46,
   "id": "d320b7ef",
   "metadata": {},
   "outputs": [
    {
     "name": "stdout",
     "output_type": "stream",
     "text": [
      "[1, 2, 3, 4, 5, 6]\n"
     ]
    }
   ],
   "source": [
    "#리스트 더하기 \n",
    "a = [1, 2, 3]\n",
    "b = [4, 5, 6]\n",
    "print(a + b)\n",
    "# 리스트 2개가 합쳐져서 나옴 "
   ]
  },
  {
   "cell_type": "code",
   "execution_count": 47,
   "id": "0babf7a9",
   "metadata": {},
   "outputs": [
    {
     "name": "stdout",
     "output_type": "stream",
     "text": [
      "[1, 2, 3]\n"
     ]
    }
   ],
   "source": [
    "#리스트 반복하기 => * \n",
    "a * 3\n",
    "print(a)\n",
    "#리스트가 3번 반복하여 나옴 "
   ]
  },
  {
   "cell_type": "code",
   "execution_count": 48,
   "id": "e123fc74",
   "metadata": {},
   "outputs": [
    {
     "name": "stdout",
     "output_type": "stream",
     "text": [
      "3\n"
     ]
    }
   ],
   "source": [
    "#리스트 길이 구하기 \n",
    "b = len(a)\n",
    "print(b)"
   ]
  },
  {
   "cell_type": "code",
   "execution_count": null,
   "id": "95405513",
   "metadata": {},
   "outputs": [],
   "source": []
  },
  {
   "cell_type": "markdown",
   "id": "21940c04",
   "metadata": {},
   "source": [
    "### 리스트의 수정과 삭제 "
   ]
  },
  {
   "cell_type": "code",
   "execution_count": 51,
   "id": "16c1dadb",
   "metadata": {},
   "outputs": [
    {
     "name": "stdout",
     "output_type": "stream",
     "text": [
      "4\n"
     ]
    }
   ],
   "source": [
    "#리스트에서 값 수정하기 \n",
    "a = [1, 2, 3]\n",
    "a[2] = 4\n",
    "\n",
    "print(a[2])"
   ]
  },
  {
   "cell_type": "code",
   "execution_count": 54,
   "id": "61f4fa48",
   "metadata": {},
   "outputs": [
    {
     "name": "stdout",
     "output_type": "stream",
     "text": [
      "[1, 3]\n"
     ]
    }
   ],
   "source": [
    "#del 키워드를 사용해 리스트 요소 삭제하기 => 인덱싱, 슬라이싱 이용 \n",
    "\n",
    "a = [1,2,3]\n",
    "del a[1]\n",
    "print(a)"
   ]
  },
  {
   "cell_type": "code",
   "execution_count": 55,
   "id": "8b51ad85",
   "metadata": {
    "scrolled": false
   },
   "outputs": [
    {
     "name": "stdout",
     "output_type": "stream",
     "text": [
      "[1, 2]\n"
     ]
    }
   ],
   "source": [
    "a = [1,2,3,4,5]\n",
    "del a[2:]\n",
    "print(a)"
   ]
  },
  {
   "cell_type": "markdown",
   "id": "232c1dcd",
   "metadata": {},
   "source": [
    "### 리스트 요소 제거(remove)"
   ]
  },
  {
   "cell_type": "code",
   "execution_count": 57,
   "id": "328b6670",
   "metadata": {},
   "outputs": [
    {
     "name": "stdout",
     "output_type": "stream",
     "text": [
      "[1, 2, 1, 2, 3]\n"
     ]
    }
   ],
   "source": [
    "#remove(x)는 리스트에서 첫 번째로 나오는 x를 삭제하는 함수이다 => x는 요소 값을 넣어주어야 함 \n",
    "a = [1, 2, 3, 1, 2, 3]\n",
    "a.remove(3)\n",
    "print(a)"
   ]
  },
  {
   "cell_type": "code",
   "execution_count": 62,
   "id": "0ffad499",
   "metadata": {},
   "outputs": [
    {
     "name": "stdout",
     "output_type": "stream",
     "text": [
      "[2, 3, 4, 5, 6]\n"
     ]
    }
   ],
   "source": [
    "a = [1, 2, 3, 4, 5, 6]\n",
    "a.remove(a[0])\n",
    "print(a)"
   ]
  },
  {
   "cell_type": "code",
   "execution_count": 63,
   "id": "4e6e95ce",
   "metadata": {},
   "outputs": [
    {
     "ename": "ValueError",
     "evalue": "list.remove(x): x not in list",
     "output_type": "error",
     "traceback": [
      "\u001b[1;31m---------------------------------------------------------------------------\u001b[0m",
      "\u001b[1;31mValueError\u001b[0m                                Traceback (most recent call last)",
      "\u001b[1;32m<ipython-input-63-c838532d2aaa>\u001b[0m in \u001b[0;36m<module>\u001b[1;34m\u001b[0m\n\u001b[0;32m      1\u001b[0m \u001b[0ma\u001b[0m \u001b[1;33m=\u001b[0m \u001b[1;33m[\u001b[0m\u001b[1;36m1\u001b[0m\u001b[1;33m,\u001b[0m \u001b[1;36m2\u001b[0m\u001b[1;33m,\u001b[0m \u001b[1;36m3\u001b[0m\u001b[1;33m,\u001b[0m \u001b[1;36m4\u001b[0m\u001b[1;33m,\u001b[0m \u001b[1;36m5\u001b[0m\u001b[1;33m,\u001b[0m \u001b[1;36m6\u001b[0m\u001b[1;33m]\u001b[0m\u001b[1;33m\u001b[0m\u001b[1;33m\u001b[0m\u001b[0m\n\u001b[1;32m----> 2\u001b[1;33m \u001b[0ma\u001b[0m\u001b[1;33m.\u001b[0m\u001b[0mremove\u001b[0m\u001b[1;33m(\u001b[0m\u001b[0ma\u001b[0m\u001b[1;33m[\u001b[0m\u001b[1;36m0\u001b[0m\u001b[1;33m:\u001b[0m\u001b[1;36m2\u001b[0m\u001b[1;33m]\u001b[0m\u001b[1;33m)\u001b[0m\u001b[1;33m\u001b[0m\u001b[1;33m\u001b[0m\u001b[0m\n\u001b[0m\u001b[0;32m      3\u001b[0m \u001b[0mprint\u001b[0m\u001b[1;33m(\u001b[0m\u001b[0ma\u001b[0m\u001b[1;33m)\u001b[0m\u001b[1;33m\u001b[0m\u001b[1;33m\u001b[0m\u001b[0m\n",
      "\u001b[1;31mValueError\u001b[0m: list.remove(x): x not in list"
     ]
    }
   ],
   "source": [
    "a = [1, 2, 3, 4, 5, 6]\n",
    "a.remove(a[0:2]) # 슬라이싱은 안됨!\n",
    "print(a)"
   ]
  },
  {
   "cell_type": "code",
   "execution_count": 64,
   "id": "734644fa",
   "metadata": {
    "scrolled": true
   },
   "outputs": [
    {
     "name": "stdout",
     "output_type": "stream",
     "text": [
      "['a', 'b', [1, 2, 3, 5], 'c']\n"
     ]
    }
   ],
   "source": [
    "a = ['a','b',[1,2,3,4,5],'c']\n",
    "\n",
    "del a[2][3]\n",
    "print(a)"
   ]
  },
  {
   "cell_type": "code",
   "execution_count": 67,
   "id": "f9e8e7c2",
   "metadata": {
    "scrolled": true
   },
   "outputs": [
    {
     "name": "stdout",
     "output_type": "stream",
     "text": [
      "['a', 'b', [1, 2, 3, 5], 'c']\n"
     ]
    }
   ],
   "source": [
    "a = ['a','b',[1,2,3,4,5],'c']\n",
    "a[2].remove(4)\n",
    "print(a)"
   ]
  },
  {
   "cell_type": "code",
   "execution_count": 69,
   "id": "4a60aeb0",
   "metadata": {
    "scrolled": true
   },
   "outputs": [
    {
     "name": "stdout",
     "output_type": "stream",
     "text": [
      "['a', 'b', [1, 2, 3, 5], 'c']\n"
     ]
    }
   ],
   "source": [
    "a = ['a','b',[1,2,3,4,5],'c']\n",
    "b = a[2]\n",
    "b.remove(4)\n",
    "print(a)"
   ]
  },
  {
   "cell_type": "markdown",
   "id": "67e3c5e6",
   "metadata": {},
   "source": [
    "### 리스트 요소 끄집어내기(pop)"
   ]
  },
  {
   "cell_type": "code",
   "execution_count": 71,
   "id": "debc09d8",
   "metadata": {
    "scrolled": true
   },
   "outputs": [
    {
     "data": {
      "text/plain": [
       "3"
      ]
     },
     "execution_count": 71,
     "metadata": {},
     "output_type": "execute_result"
    }
   ],
   "source": [
    "a = [1,2,3]\n",
    "a.pop() # 무엇을 지웠는지 알려줌 "
   ]
  },
  {
   "cell_type": "code",
   "execution_count": 72,
   "id": "ec1f2e07",
   "metadata": {},
   "outputs": [
    {
     "data": {
      "text/plain": [
       "2"
      ]
     },
     "execution_count": 72,
     "metadata": {},
     "output_type": "execute_result"
    }
   ],
   "source": [
    "a = [1,2,3]\n",
    "a.pop(1)\n",
    "\n",
    "#2를 지움 => pop 은 인덱스를 지움 "
   ]
  },
  {
   "cell_type": "code",
   "execution_count": 80,
   "id": "1e30da43",
   "metadata": {},
   "outputs": [
    {
     "data": {
      "text/plain": [
       "[1, 3]"
      ]
     },
     "execution_count": 80,
     "metadata": {},
     "output_type": "execute_result"
    }
   ],
   "source": [
    "a = [1,2,3]\n",
    "a.pop(1)\n",
    "a"
   ]
  },
  {
   "cell_type": "markdown",
   "id": "96b72ff4",
   "metadata": {},
   "source": [
    "### 리스트 추가 : append, insert, + 연산자로 더하기 ,extend"
   ]
  },
  {
   "cell_type": "code",
   "execution_count": 83,
   "id": "4327a59c",
   "metadata": {},
   "outputs": [
    {
     "name": "stdout",
     "output_type": "stream",
     "text": [
      "[1, 2, 3, 4]\n",
      "[1, 2, 3, 4, [5, 6]]\n",
      "[1, 2, 3, 4, [5, 6], 'a']\n"
     ]
    }
   ],
   "source": [
    "#리스트에 요소 추가 - append\n",
    "\n",
    "a = [1, 2, 3]\n",
    "a.append(4)\n",
    "print(a)\n",
    "\n",
    "a.append([5,6])\n",
    "print(a)\n",
    "\n",
    "a.append('a')\n",
    "print(a)"
   ]
  },
  {
   "cell_type": "code",
   "execution_count": 84,
   "id": "36412df6",
   "metadata": {},
   "outputs": [
    {
     "data": {
      "text/plain": [
       "[1, 5, 2, 3]"
      ]
     },
     "execution_count": 84,
     "metadata": {},
     "output_type": "execute_result"
    }
   ],
   "source": [
    "#리스트에 요소 추가 - 리스트.insert(입력할 인덱스위치, 추가할 값) \n",
    "\n",
    "a = [1, 2, 3]\n",
    "a.insert(1, 5)\n",
    "a"
   ]
  },
  {
   "cell_type": "code",
   "execution_count": 85,
   "id": "4e02b774",
   "metadata": {},
   "outputs": [
    {
     "data": {
      "text/plain": [
       "[1, 5, 'a', 2, 3]"
      ]
     },
     "execution_count": 85,
     "metadata": {},
     "output_type": "execute_result"
    }
   ],
   "source": [
    "a.insert(2,'a')\n",
    "a"
   ]
  },
  {
   "cell_type": "code",
   "execution_count": 86,
   "id": "e48d02e1",
   "metadata": {},
   "outputs": [
    {
     "data": {
      "text/plain": [
       "[1, 2, 3, 4, 5, 6]"
      ]
     },
     "execution_count": 86,
     "metadata": {},
     "output_type": "execute_result"
    }
   ],
   "source": [
    "#리스트에 요소 추가 - (+) 연산자로 더하기 \n",
    "\n",
    "a =[1,2,3]\n",
    "b =[4,5,6]\n",
    "a + b"
   ]
  },
  {
   "cell_type": "code",
   "execution_count": 87,
   "id": "5c7d9de9",
   "metadata": {},
   "outputs": [
    {
     "name": "stdout",
     "output_type": "stream",
     "text": [
      "[1, 2, 3, 4, 5, 6]\n"
     ]
    }
   ],
   "source": [
    "#리스트에 요소 추가 - extend메소드 : 리스트.extend(추가할리스트)\n",
    "\n",
    "a = [1,2,3]\n",
    "a.extend([4,5,6])\n",
    "print(a)"
   ]
  },
  {
   "cell_type": "code",
   "execution_count": 88,
   "id": "069e40f3",
   "metadata": {},
   "outputs": [
    {
     "data": {
      "text/plain": [
       "[1, 2, 3, 1, 2]"
      ]
     },
     "execution_count": 88,
     "metadata": {},
     "output_type": "execute_result"
    }
   ],
   "source": [
    "a = [1,2,3]\n",
    "b = [1,2]\n",
    "\n",
    "a + b"
   ]
  },
  {
   "cell_type": "code",
   "execution_count": 89,
   "id": "4049c87d",
   "metadata": {},
   "outputs": [
    {
     "data": {
      "text/plain": [
       "[1, 2, 3, 1, 2, 3]"
      ]
     },
     "execution_count": 89,
     "metadata": {},
     "output_type": "execute_result"
    }
   ],
   "source": [
    "a.extend([1,2,3]) # 그대로 합쳐짐 \n",
    "a"
   ]
  },
  {
   "cell_type": "code",
   "execution_count": 95,
   "id": "827be5e7",
   "metadata": {},
   "outputs": [
    {
     "name": "stdout",
     "output_type": "stream",
     "text": [
      "{1, 2, 3, 4, 5, 6}\n",
      "[1, 2, 3, 4, 5, 6]\n"
     ]
    }
   ],
   "source": [
    "#cf. 집합의 경우\n",
    "\n",
    "a = {1,2,6}\n",
    "b = {1,2,3,4,5}\n",
    "\n",
    "print(a.union(b))\n",
    "print(list(a.union(b)))"
   ]
  },
  {
   "cell_type": "markdown",
   "id": "3f4038ff",
   "metadata": {},
   "source": [
    "### 리스트 정렬(sort)"
   ]
  },
  {
   "cell_type": "code",
   "execution_count": 96,
   "id": "24abb696",
   "metadata": {},
   "outputs": [
    {
     "name": "stdout",
     "output_type": "stream",
     "text": [
      "[-2, 1, 2, 3, 4, 5, 6, 100, 200]\n"
     ]
    }
   ],
   "source": [
    "a = [100, 200, -2, 1, 2, 3, 4, 5, 6]\n",
    "a.sort()\n",
    "print(a)\n",
    "#작은 수부터 큰수로 나열됨 "
   ]
  },
  {
   "cell_type": "code",
   "execution_count": 97,
   "id": "616b25c3",
   "metadata": {},
   "outputs": [
    {
     "data": {
      "text/plain": [
       "['a', 'b', 'c']"
      ]
     },
     "execution_count": 97,
     "metadata": {},
     "output_type": "execute_result"
    }
   ],
   "source": [
    "a = ['a','c','b']\n",
    "a.sort()\n",
    "a"
   ]
  },
  {
   "cell_type": "code",
   "execution_count": 116,
   "id": "dfda861e",
   "metadata": {
    "scrolled": true
   },
   "outputs": [
    {
     "data": {
      "text/plain": [
       "['a', 'b', 'c', '공', '성']"
      ]
     },
     "execution_count": 116,
     "metadata": {},
     "output_type": "execute_result"
    }
   ],
   "source": [
    "a = ['성','공','a','c','b']\n",
    "a.sort()\n",
    "a\n",
    "\n",
    "# 영어가 먼저 나옴 "
   ]
  },
  {
   "cell_type": "code",
   "execution_count": 115,
   "id": "11c59e00",
   "metadata": {},
   "outputs": [
    {
     "name": "stdout",
     "output_type": "stream",
     "text": [
      "['성', '공', 'c', 'b', 'a']\n"
     ]
    }
   ],
   "source": [
    "#sort후 뒤집기 True=> 역순정렬\n",
    "a = ['성','공','a','c','b']\n",
    "a.sort(reverse=True)\n",
    "print(a)\n",
    "\n",
    "# 0 : False "
   ]
  },
  {
   "cell_type": "markdown",
   "id": "18b09f0e",
   "metadata": {},
   "source": [
    "### 리스트 뒤집기(reverse)"
   ]
  },
  {
   "cell_type": "code",
   "execution_count": 102,
   "id": "d5ccf479",
   "metadata": {},
   "outputs": [
    {
     "data": {
      "text/plain": [
       "['최', '공', '성']"
      ]
     },
     "execution_count": 102,
     "metadata": {},
     "output_type": "execute_result"
    }
   ],
   "source": [
    "a = ['성','공','최']\n",
    "a.reverse()\n",
    "a"
   ]
  },
  {
   "cell_type": "markdown",
   "id": "2e859468",
   "metadata": {},
   "source": [
    "### 리스트에 포함된 요소 x의 개수 세기(count)"
   ]
  },
  {
   "cell_type": "code",
   "execution_count": 117,
   "id": "eefd75b7",
   "metadata": {},
   "outputs": [],
   "source": [
    "a = ['성','김','공','공','공','공','공','공','공','공','공','공','공','공','공','공','공','공','공']"
   ]
  },
  {
   "cell_type": "code",
   "execution_count": 119,
   "id": "c6d95385",
   "metadata": {},
   "outputs": [
    {
     "data": {
      "text/plain": [
       "17"
      ]
     },
     "execution_count": 119,
     "metadata": {},
     "output_type": "execute_result"
    }
   ],
   "source": [
    "a.count('공')"
   ]
  },
  {
   "cell_type": "code",
   "execution_count": null,
   "id": "e3a3451b",
   "metadata": {},
   "outputs": [],
   "source": []
  }
 ],
 "metadata": {
  "kernelspec": {
   "display_name": "Python 3",
   "language": "python",
   "name": "python3"
  },
  "language_info": {
   "codemirror_mode": {
    "name": "ipython",
    "version": 3
   },
   "file_extension": ".py",
   "mimetype": "text/x-python",
   "name": "python",
   "nbconvert_exporter": "python",
   "pygments_lexer": "ipython3",
   "version": "3.8.9"
  },
  "metadata": {
   "interpreter": {
    "hash": "9062e4ca8c07337d9db1befa8eee97a94d9545d7755e561dbc2e6d90c1a3659f"
   }
  }
 },
 "nbformat": 4,
 "nbformat_minor": 5
}
